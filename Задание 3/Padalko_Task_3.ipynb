{
  "nbformat": 4,
  "nbformat_minor": 0,
  "metadata": {
    "colab": {
      "provenance": []
    },
    "kernelspec": {
      "name": "python3",
      "display_name": "Python 3"
    },
    "language_info": {
      "name": "python"
    }
  },
  "cells": [
    {
      "cell_type": "markdown",
      "source": [
        "# Задание 3. Применение RNN для прогнозирования отношения в рецензиях на фильмы."
      ],
      "metadata": {
        "id": "JUTOYZY5KanT"
      }
    },
    {
      "cell_type": "markdown",
      "source": [
        "Импортируем нужные модули и слои для нейросети."
      ],
      "metadata": {
        "id": "LZfDEdUkK2E6"
      }
    },
    {
      "cell_type": "code",
      "execution_count": null,
      "metadata": {
        "id": "QBTbzUp1GloB"
      },
      "outputs": [],
      "source": [
        "from keras.models import Sequential\n",
        "from keras.layers import Dense, LSTM, Bidirectional\n",
        "from keras.utils import pad_sequences\n",
        "from keras.layers import Embedding\n",
        "import numpy as np\n",
        "import pandas as pd\n",
        "np_seed = 73\n",
        "np.random.seed(np_seed)"
      ]
    },
    {
      "cell_type": "markdown",
      "source": [
        "Импортируем датасет из 25000 рецензий IMDb, загружаем тренировочную и тестовую выборку."
      ],
      "metadata": {
        "id": "NCT0HEzsLtlZ"
      }
    },
    {
      "cell_type": "code",
      "source": [
        "from keras.datasets import imdb\n",
        "max_features = 5000 #Максимальное количество различных слов в импортируемых выборках.\n",
        "(X_train, y_train), (X_test, y_test) = imdb.load_data(seed = np_seed, num_words = 5000)\n",
        "print(\"Размерность тренировочной выборки:\")\n",
        "print(X_train.shape, y_train.shape)\n",
        "print(\"Размерность тестовой выборки:\")\n",
        "print(X_test.shape, y_test.shape)"
      ],
      "metadata": {
        "colab": {
          "base_uri": "https://localhost:8080/"
        },
        "id": "XBvGt266Kzsz",
        "outputId": "f0f2ae79-59b2-4080-ee34-1e7877bac7fe"
      },
      "execution_count": null,
      "outputs": [
        {
          "output_type": "stream",
          "name": "stdout",
          "text": [
            "Размерность тренировочной выборки:\n",
            "(25000,) (25000,)\n",
            "Размерность тестовой выборки:\n",
            "(25000,) (25000,)\n"
          ]
        }
      ]
    },
    {
      "cell_type": "markdown",
      "source": [
        "Строим модель Sequential следующей структуры:\n",
        "- Слой Embedding. Служит для понижения размерности входных данных.\n",
        "- Слой LSTM внутри оболочки Bidirectional. LSTM = Long Short-Term Memory. Часть Keras RNN API. Слой, способный различать долгосрочные зависимости и работать с ними.\n",
        "- Слой Dense с функцией активации \"sigmoid\"."
      ],
      "metadata": {
        "id": "urn6v0wHatZr"
      }
    },
    {
      "cell_type": "code",
      "source": [
        "max_reviewlength = 500 #Максимальное количество слов в одной рецензии - остальное обрезается. При недостатке - восполняется пустыми словами.\n",
        "LSTM_units = 64 #Выходная размерность слоя Embedding, входная размерность слоя LSTM.\n",
        "X_train_clamped = pad_sequences(X_train, maxlen = max_reviewlength)\n",
        "X_test_clamped = pad_sequences(X_test, maxlen = max_reviewlength)\n",
        "def CreateModel():\n",
        "  model = Sequential()\n",
        "  model.add(Embedding(max_features, LSTM_units, input_length = max_reviewlength))\n",
        "  model.add(Bidirectional(LSTM(LSTM_units)))\n",
        "  model.add(Dense(1, activation = \"sigmoid\"))\n",
        "  model.compile(loss = \"binary_crossentropy\", optimizer = \"adam\", metrics = [\"accuracy\"])\n",
        "  return model"
      ],
      "metadata": {
        "id": "ae-jNjZ1LUh6"
      },
      "execution_count": null,
      "outputs": []
    },
    {
      "cell_type": "markdown",
      "source": [
        "Для обучения выбираем следующие параметры:\n",
        "- batch_size - 64. Количество сэмплов для градиентного спуска.\n",
        "- epochs - 3. Количество эпох модели."
      ],
      "metadata": {
        "id": "lwr4R_Kde2Lf"
      }
    },
    {
      "cell_type": "code",
      "source": [
        "batch_size = 64\n",
        "epochs = 3\n",
        "model = CreateModel()\n",
        "model.fit(X_train_clamped, y_train, batch_size = batch_size, epochs = epochs)"
      ],
      "metadata": {
        "colab": {
          "base_uri": "https://localhost:8080/"
        },
        "id": "ySekwxT-PVy-",
        "outputId": "f19cbce2-0a93-4070-930f-789fea6d9337"
      },
      "execution_count": null,
      "outputs": [
        {
          "output_type": "stream",
          "name": "stdout",
          "text": [
            "Epoch 1/3\n",
            "391/391 [==============================] - 361s 899ms/step - loss: 0.4250 - accuracy: 0.7996\n",
            "Epoch 2/3\n",
            "391/391 [==============================] - 348s 890ms/step - loss: 0.2792 - accuracy: 0.8895\n",
            "Epoch 3/3\n",
            "391/391 [==============================] - 345s 884ms/step - loss: 0.2382 - accuracy: 0.9070\n"
          ]
        },
        {
          "output_type": "execute_result",
          "data": {
            "text/plain": [
              "<keras.callbacks.History at 0x7fbfead559c0>"
            ]
          },
          "metadata": {},
          "execution_count": 4
        }
      ]
    },
    {
      "cell_type": "code",
      "source": [
        "score, accuracy = model.evaluate(X_test_clamped, y_test, batch_size = batch_size)\n",
        "print(\"Точность на тестовой выборке: \"+str(accuracy*100)+\"%.\")"
      ],
      "metadata": {
        "colab": {
          "base_uri": "https://localhost:8080/"
        },
        "id": "SFI0Pb7ef5TW",
        "outputId": "87fbe26a-81d0-4086-dfbd-1ca359d6b9d9"
      },
      "execution_count": null,
      "outputs": [
        {
          "output_type": "stream",
          "name": "stdout",
          "text": [
            "391/391 [==============================] - 94s 238ms/step - loss: 0.3071 - accuracy: 0.8750\n",
            "Точность на тестовой выборке: 87.5%.\n"
          ]
        }
      ]
    },
    {
      "cell_type": "markdown",
      "source": [],
      "metadata": {
        "id": "NSiu9XttfrWW"
      }
    }
  ]
}